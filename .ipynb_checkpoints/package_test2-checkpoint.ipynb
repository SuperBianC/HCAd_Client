{
 "cells": [
  {
   "cell_type": "code",
   "execution_count": 1,
   "metadata": {},
   "outputs": [],
   "source": [
    "import sys\n",
    "import pandas as pd\n",
    "sys.path.append('/home/chenyx/HHCA_d/DBupLoad')\n",
    "from HCAd_Client import HCAd_Client"
   ]
  },
  {
   "cell_type": "markdown",
   "metadata": {},
   "source": [
    "# connected to the server"
   ]
  },
  {
   "cell_type": "code",
   "execution_count": 3,
   "metadata": {},
   "outputs": [],
   "source": [
    "client = HCAd_Client.HCAd_Client()"
   ]
  },
  {
   "cell_type": "code",
   "execution_count": 4,
   "metadata": {},
   "outputs": [
    {
     "name": "stdout",
     "output_type": "stream",
     "text": [
      "Connected to the server, find the table.\n",
      "SampleTable\n",
      "TableName: SampleTable\n",
      "PrimaryKey: [('study_id', 'STRING'), ('cell_id', 'STRING'), ('user_id', 'INTEGER')]\n",
      "Reserved read throughput: 0\n",
      "Reserved write throughput: 0\n",
      "Last increase throughput time: 1599718442\n",
      "Last decrease throughput time: None\n",
      "table options's time to live: -1\n",
      "table options's max version: 1\n",
      "table options's max_time_deviation: 86400\n"
     ]
    }
   ],
   "source": [
    "client.Setup_Client(endpoint, access_key_id, access_key_secret, instance_name, table_name)"
   ]
  },
  {
   "cell_type": "markdown",
   "metadata": {},
   "source": [
    "# Create Index"
   ]
  },
  {
   "cell_type": "code",
   "execution_count": 5,
   "metadata": {},
   "outputs": [
    {
     "name": "stdout",
     "output_type": "stream",
     "text": [
      "index already exist.\n"
     ]
    }
   ],
   "source": [
    "client.build_index()"
   ]
  },
  {
   "cell_type": "markdown",
   "metadata": {},
   "source": [
    "# Search Cells"
   ]
  },
  {
   "cell_type": "code",
   "execution_count": 6,
   "metadata": {},
   "outputs": [
    {
     "name": "stdout",
     "output_type": "stream",
     "text": [
      "210 cells found\n"
     ]
    }
   ],
   "source": [
    "rows_to_get = client.query_cells(\"donor_age== 47yr && organ ==   Heart && (hcad_name==Heart-Connective Tissue-T cell-CCL5 CST7 || hcad_name==Heart-Musle Tissue-Smooth muscle cell-PPP1R15A JUNB )\")"
   ]
  },
  {
   "cell_type": "code",
   "execution_count": 9,
   "metadata": {},
   "outputs": [
    {
     "data": {
      "text/html": [
       "<div>\n",
       "<style scoped>\n",
       "    .dataframe tbody tr th:only-of-type {\n",
       "        vertical-align: middle;\n",
       "    }\n",
       "\n",
       "    .dataframe tbody tr th {\n",
       "        vertical-align: top;\n",
       "    }\n",
       "\n",
       "    .dataframe thead th {\n",
       "        text-align: right;\n",
       "    }\n",
       "</style>\n",
       "<table border=\"1\" class=\"dataframe\">\n",
       "  <thead>\n",
       "    <tr style=\"text-align: right;\">\n",
       "      <th></th>\n",
       "      <th>study_id</th>\n",
       "      <th>cell_id</th>\n",
       "      <th>user_id</th>\n",
       "      <th>A2MP1</th>\n",
       "      <th>AAAS</th>\n",
       "    </tr>\n",
       "  </thead>\n",
       "  <tbody>\n",
       "    <tr>\n",
       "      <th>0</th>\n",
       "      <td>10.1038/s41586-020-2157-4</td>\n",
       "      <td>AdultHeart_2.AAAACGAACGCCTCGTAA</td>\n",
       "      <td>2</td>\n",
       "      <td>0.0</td>\n",
       "      <td>0.0</td>\n",
       "    </tr>\n",
       "    <tr>\n",
       "      <th>1</th>\n",
       "      <td>10.1038/s41586-020-2157-4</td>\n",
       "      <td>AdultHeart_2.AAAACGGACACTGAATTA</td>\n",
       "      <td>2</td>\n",
       "      <td>0.0</td>\n",
       "      <td>0.0</td>\n",
       "    </tr>\n",
       "    <tr>\n",
       "      <th>2</th>\n",
       "      <td>10.1038/s41586-020-2157-4</td>\n",
       "      <td>AdultHeart_2.AAAGTTATGCTTTACTTC</td>\n",
       "      <td>2</td>\n",
       "      <td>0.0</td>\n",
       "      <td>0.0</td>\n",
       "    </tr>\n",
       "    <tr>\n",
       "      <th>3</th>\n",
       "      <td>10.1038/s41586-020-2157-4</td>\n",
       "      <td>AdultHeart_2.AAAGTTCAACAACGTATT</td>\n",
       "      <td>2</td>\n",
       "      <td>0.0</td>\n",
       "      <td>0.0</td>\n",
       "    </tr>\n",
       "    <tr>\n",
       "      <th>4</th>\n",
       "      <td>10.1038/s41586-020-2157-4</td>\n",
       "      <td>AdultHeart_2.AACCTAAGGACTAGTCGT</td>\n",
       "      <td>2</td>\n",
       "      <td>0.0</td>\n",
       "      <td>0.0</td>\n",
       "    </tr>\n",
       "    <tr>\n",
       "      <th>...</th>\n",
       "      <td>...</td>\n",
       "      <td>...</td>\n",
       "      <td>...</td>\n",
       "      <td>...</td>\n",
       "      <td>...</td>\n",
       "    </tr>\n",
       "    <tr>\n",
       "      <th>203</th>\n",
       "      <td>10.1038/s41586-020-2157-4</td>\n",
       "      <td>AdultHeart_2.TTCATAGCGAATTAGTCG</td>\n",
       "      <td>2</td>\n",
       "      <td>0.0</td>\n",
       "      <td>0.0</td>\n",
       "    </tr>\n",
       "    <tr>\n",
       "      <th>204</th>\n",
       "      <td>10.1038/s41586-020-2157-4</td>\n",
       "      <td>AdultHeart_2.TTCATATTAACTTTCATA</td>\n",
       "      <td>2</td>\n",
       "      <td>0.0</td>\n",
       "      <td>0.0</td>\n",
       "    </tr>\n",
       "    <tr>\n",
       "      <th>205</th>\n",
       "      <td>10.1038/s41586-020-2157-4</td>\n",
       "      <td>AdultHeart_2.TTCATATTCCGCTAGAGA</td>\n",
       "      <td>2</td>\n",
       "      <td>0.0</td>\n",
       "      <td>0.0</td>\n",
       "    </tr>\n",
       "    <tr>\n",
       "      <th>206</th>\n",
       "      <td>10.1038/s41586-020-2157-4</td>\n",
       "      <td>AdultHeart_2.TTCCGCCCGACGATTCCA</td>\n",
       "      <td>2</td>\n",
       "      <td>0.0</td>\n",
       "      <td>0.0</td>\n",
       "    </tr>\n",
       "    <tr>\n",
       "      <th>207</th>\n",
       "      <td>10.1038/s41586-020-2157-4</td>\n",
       "      <td>AdultHeart_2.TTCCGCCGGCAGGCAGGA</td>\n",
       "      <td>2</td>\n",
       "      <td>0.0</td>\n",
       "      <td>0.0</td>\n",
       "    </tr>\n",
       "  </tbody>\n",
       "</table>\n",
       "<p>208 rows × 5 columns</p>\n",
       "</div>"
      ],
      "text/plain": [
       "                      study_id                          cell_id  user_id  \\\n",
       "0    10.1038/s41586-020-2157-4  AdultHeart_2.AAAACGAACGCCTCGTAA        2   \n",
       "1    10.1038/s41586-020-2157-4  AdultHeart_2.AAAACGGACACTGAATTA        2   \n",
       "2    10.1038/s41586-020-2157-4  AdultHeart_2.AAAGTTATGCTTTACTTC        2   \n",
       "3    10.1038/s41586-020-2157-4  AdultHeart_2.AAAGTTCAACAACGTATT        2   \n",
       "4    10.1038/s41586-020-2157-4  AdultHeart_2.AACCTAAGGACTAGTCGT        2   \n",
       "..                         ...                              ...      ...   \n",
       "203  10.1038/s41586-020-2157-4  AdultHeart_2.TTCATAGCGAATTAGTCG        2   \n",
       "204  10.1038/s41586-020-2157-4  AdultHeart_2.TTCATATTAACTTTCATA        2   \n",
       "205  10.1038/s41586-020-2157-4  AdultHeart_2.TTCATATTCCGCTAGAGA        2   \n",
       "206  10.1038/s41586-020-2157-4  AdultHeart_2.TTCCGCCCGACGATTCCA        2   \n",
       "207  10.1038/s41586-020-2157-4  AdultHeart_2.TTCCGCCGGCAGGCAGGA        2   \n",
       "\n",
       "     A2MP1  AAAS  \n",
       "0      0.0   0.0  \n",
       "1      0.0   0.0  \n",
       "2      0.0   0.0  \n",
       "3      0.0   0.0  \n",
       "4      0.0   0.0  \n",
       "..     ...   ...  \n",
       "203    0.0   0.0  \n",
       "204    0.0   0.0  \n",
       "205    0.0   0.0  \n",
       "206    0.0   0.0  \n",
       "207    0.0   0.0  \n",
       "\n",
       "[208 rows x 5 columns]"
      ]
     },
     "execution_count": 9,
     "metadata": {},
     "output_type": "execute_result"
    }
   ],
   "source": [
    "#设置基因筛选范围\n",
    "gene_filter = HCAd_Client.seq2filter(\"A2MP1 >= 0\")\n",
    "# 获得想要的列\n",
    "client.get_columnsbycell(rows_to_get,['A2MP1','AAAS'],gene_filter)"
   ]
  },
  {
   "cell_type": "markdown",
   "metadata": {},
   "source": [
    "# get column set"
   ]
  },
  {
   "cell_type": "code",
   "execution_count": 9,
   "metadata": {},
   "outputs": [
    {
     "name": "stdout",
     "output_type": "stream",
     "text": [
      "6797 cells found\n"
     ]
    },
    {
     "data": {
      "text/plain": [
       "['Heart-Connective Tissue-Macrophage-C1QB C1QA',\n",
       " 'Heart-Musle Tissue-Smooth muscle cell-TAGLN ACTA2',\n",
       " 'Heart-Connective Tissue-T cell-CCL5 CST7',\n",
       " 'Heart-Connective Tissue-Fibrocyte-DCN LUM',\n",
       " 'Heart-Connective Tissue-Fibrocyte-DCN APOD',\n",
       " 'Heart-Musle Tissue-Cardiomyocyte Cell-CCL2 CD36',\n",
       " 'Heart-Epithelial Tissue-Endothelial cell-VWF ADGRF5',\n",
       " 'Heart-Musle Tissue-Smooth muscle cell-PPP1R15A JUNB',\n",
       " 'Heart-Musle Tissue-Smooth muscle cell-TPM2 TAGLN',\n",
       " 'Heart-Connective Tissue-Neutrophilic granulocyte-FCN1 S100A8',\n",
       " 'Heart-Connective Tissue-Neutrophilic granulocyte-SERPINB2 C5AR1',\n",
       " 'Heart-Epithelial tissue-Endocardial cell-POSTN CDH11',\n",
       " 'Heart-Musle tissue-Cardiomyocyte cell-MT-RNR2 MT-CYB',\n",
       " 'Heart-Connective tissue-Fibrocyte-SLN COL1A1',\n",
       " 'Heart-Connective tissue-Fibrocyte-H2AZ1 NUSAP1',\n",
       " 'Heart-Epithelial tissue-Vascular endothelial cell-TMSB4X FABP4',\n",
       " 'Heart-Connective tissue-Erythrocyte-HBA1 HBG2',\n",
       " 'Heart-Musle tissue-Smooth muscle cell-ACTA2 ACTG2',\n",
       " 'Heart-Musle tissue-Cardiomyocyte cell-PLN FHL2',\n",
       " 'Heart-Musle tissue-Cardiomyocyte cell-UBE2T NUSAP1',\n",
       " 'Heart-Connective tissue-Fibrocyte-DCN LUM',\n",
       " 'Heart-Musle tissue-Cardiomyocyte cell-MT-ND4 MT-CO2',\n",
       " 'Heart-Musle tissue-Cardiomyocyte cell-MYH6 NPPA',\n",
       " 'Heart-Connective tissue-Fibrocyte-RPL34 RPL7',\n",
       " 'Heart-Musle tissue-Cardiomyocyte cell-MYL2 MYL7',\n",
       " 'Heart-Connective tissue-Macrophage-HLA-DRA TOX4',\n",
       " 'Heart-Epithelial tissue-Pericyte-CLDN5 CXCR4',\n",
       " 'Unknown',\n",
       " 'Heart-Musle tissue-Cardiomyocyte cell-MT-CO2 MT-ATP6',\n",
       " 'Heart-Nerve tissue-Neuron-STMN2 RTN1']"
      ]
     },
     "execution_count": 9,
     "metadata": {},
     "output_type": "execute_result"
    }
   ],
   "source": [
    "client.get_column_set(\"organ ==   Heart\",[\"hcad_name\"])"
   ]
  },
  {
   "cell_type": "markdown",
   "metadata": {},
   "source": [
    "# Update data"
   ]
  },
  {
   "cell_type": "code",
   "execution_count": 8,
   "metadata": {},
   "outputs": [],
   "source": [
    "primary_key = [[('study_id','10.1038/s41467-019-10756-2'), ('cell_id','human_control-AAACCTGAGCTGAAAT'),('user_id',3)],[('study_id','10.1038/s41467-019-10756-2'), ('cell_id','human_control-AAACCTGAGGTGCTTT'),('user_id',3)]]\n",
    "update = [[('A2MP1',123),('AAAS',456)],[('A2MP1',321),('AAAS',654)]]"
   ]
  },
  {
   "cell_type": "code",
   "execution_count": null,
   "metadata": {},
   "outputs": [],
   "source": [
    "client.update_batch(primary_key,update)"
   ]
  }
 ],
 "metadata": {
  "kernelspec": {
   "display_name": "Python 3",
   "language": "python",
   "name": "python3"
  },
  "language_info": {
   "codemirror_mode": {
    "name": "ipython",
    "version": 3
   },
   "file_extension": ".py",
   "mimetype": "text/x-python",
   "name": "python",
   "nbconvert_exporter": "python",
   "pygments_lexer": "ipython3",
   "version": "3.7.3"
  }
 },
 "nbformat": 4,
 "nbformat_minor": 4
}
